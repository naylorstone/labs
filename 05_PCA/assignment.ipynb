{
 "cells": [
  {
   "cell_type": "markdown",
   "metadata": {},
   "source": [
    "## PCA and Text Analysis\n",
    "\n",
    "This assignment involves processing real e-mails, some of which are scams. Some of these scam e-mails have some offensive content. I don't think anything is worse than R-rated, but I just want to warn you that if you start reading the e-mail text, you might read something offensive. If that's a problem, feel free to e-mail me and we can talk about it more or you can skip the assignment.  "
   ]
  },
  {
   "cell_type": "markdown",
   "metadata": {},
   "source": [
    "### Q1. \n",
    "\n",
    "Open the `Phishing_Email.parquet` data. It is available at `https://data434.s3.us-east-2.amazonaws.com/Phishing_Email.parquet`, and you can download it directly using Pandas by providing that URL: `df = pd.read_parquet('https://data434.s3.us-east-2.amazonaws.com/Phishing_Email.parquet')`.\n",
    "\n",
    "We just want to look at the first step of cleaning text data, so you can get an idea of how it works. The `Email Text` variable contains the actual text of the email and the `Email Type` takes the value `Phishing Email` or `Safe Email`. We want to predict which emails are phishing emails from their contents. \n",
    "\n",
    "Use the `str.split()` method to break the `Phishing Email` values into **tokens**: The individual words or symbols that create text data like emails. Natural Language Processing is primarily about analyzing the frequency and co-occurrence of tokens. Print the results of your split and examine it.\n",
    "\n",
    "In words, how would you clean the tokens and use them to predict whether the email is a phishing scam or not? A short summary of the kinds of tasks you would do and how you would run a predictive algorithm is fine."
   ]
  },
  {
   "cell_type": "code",
   "execution_count": 1,
   "metadata": {
    "tags": []
   },
   "outputs": [
    {
     "name": "stdout",
     "output_type": "stream",
     "text": [
      "   index  Unnamed: 0                                         Email Text  \\\n",
      "0      0           0  re : 6 . 1100 , disc : uniformitarianism , re ...   \n",
      "1      1           1  the other side of * galicismos * * galicismo *...   \n",
      "2      2           2  re : equistar deal tickets are you still avail...   \n",
      "3      3           3  \\nHello I am your hot lil horny toy.\\n    I am...   \n",
      "4      4           4  software at incredibly low prices ( 86 % lower...   \n",
      "\n",
      "       Email Type  \n",
      "0      Safe Email  \n",
      "1      Safe Email  \n",
      "2      Safe Email  \n",
      "3  Phishing Email  \n",
      "4  Phishing Email  \n",
      "0    [re, :, 6, ., 1100, ,, disc, :, uniformitarian...\n",
      "1    [the, other, side, of, *, galicismos, *, *, ga...\n",
      "2    [re, :, equistar, deal, tickets, are, you, sti...\n",
      "3    [Hello, I, am, your, hot, lil, horny, toy., I,...\n",
      "4    [software, at, incredibly, low, prices, (, 86,...\n",
      "Name: Email Text, dtype: object\n"
     ]
    }
   ],
   "source": [
    "import numpy as np\n",
    "import pandas as pd\n",
    "import pickle\n",
    "from collections import Counter\n",
    "from multiprocessing.pool import Pool\n",
    "from sklearn.decomposition import PCA\n",
    "from sklearn.linear_model import LinearRegression\n",
    "from sklearn.model_selection import train_test_split\n",
    "from sklearn.metrics import r2_score\n",
    "import seaborn as sns\n",
    "import matplotlib.pyplot as plt\n",
    "\n",
    "\n",
    "fish = pd.read_parquet('https://data434.s3.us-east-2.amazonaws.com/Phishing_Email.parquet')\n",
    "token = fish[\"Email Text\"].str.split()\n",
    "print(fish.head())\n",
    "print(token.head())"
   ]
  },
  {
   "cell_type": "markdown",
   "metadata": {},
   "source": [
    "### Q2. \n",
    "\n",
    "I aggregated all the emails into a single vector, and removed the punctuation and very common words (e.g. \"the\"). Run the below code chunk to open it, and use the Counter class to look at the most common words:"
   ]
  },
  {
   "cell_type": "code",
   "execution_count": 2,
   "metadata": {
    "tags": []
   },
   "outputs": [],
   "source": [
    "with open('all_tokens.pickle', 'rb') as file:\n",
    "    all_tokens = pickle.load(file)\n",
    "    \n",
    "from collections import Counter\n",
    "token_count = Counter(all_tokens)\n",
    "token_freq = token_count.most_common()\n",
    "a = pd.DataFrame(token_freq,columns=['token','count'])"
   ]
  },
  {
   "cell_type": "markdown",
   "metadata": {},
   "source": [
    "Plot a histogram of the occurrences of tokens. What do you notice about the frequency of occurrence of different tokens? How does it look?"
   ]
  },
  {
   "cell_type": "code",
   "execution_count": 3,
   "metadata": {
    "tags": []
   },
   "outputs": [
    {
     "data": {
      "image/png": "[encoded data removed]",
      "text/plain": [
       "<Figure size 640x480 with 1 Axes>"
      ]
     },
     "metadata": {},
     "output_type": "display_data"
    }
   ],
   "source": [
    "plt.hist(a['count'], bins=20)\n",
    "plt.show()"
   ]
  },
  {
   "cell_type": "markdown",
   "metadata": {},
   "source": [
    ">It looks like most words only show up a few times with a few of the words showing up a very large amount (way more than the others) as shown by the large tail close to the zero mark."
   ]
  },
  {
   "cell_type": "markdown",
   "metadata": {},
   "source": [
    "### Q3. \n",
    "\n",
    "Load `Phishing_clean.parquet`. This is the text from the e-mails broken into the most common 2,711 tokens and one-hot-encoded as features/covariates. So each row is an e-mail, the `Email Type` takes the value 1 if it's a scam and 0 otherwise, and every other column is a word or symbol that occurs in at least 15 e-mails.\n",
    "\n",
    "1. Perform an 80/20 train-test split of the data.\n",
    "2. Run a regression of $y$ on the one-hot-encoded emails. What is the $R^2$ on the test set? On the training set?\n",
    "3. What words have the largest coefficients in absolute value and most strongly influence predictions? "
   ]
  },
  {
   "cell_type": "code",
   "execution_count": 4,
   "metadata": {
    "tags": []
   },
   "outputs": [
    {
     "name": "stdout",
     "output_type": "stream",
     "text": [
      "train:  0.6159015381792188\n",
      "test:  -0.0002683843266513275\n"
     ]
    },
    {
     "data": {
      "text/html": [
       "<div>\n",
       "<style scoped>\n",
       "    .dataframe tbody tr th:only-of-type {\n",
       "        vertical-align: middle;\n",
       "    }\n",
       "\n",
       "    .dataframe tbody tr th {\n",
       "        vertical-align: top;\n",
       "    }\n",
       "\n",
       "    .dataframe thead th {\n",
       "        text-align: right;\n",
       "    }\n",
       "</style>\n",
       "<table border=\"1\" class=\"dataframe\">\n",
       "  <thead>\n",
       "    <tr style=\"text-align: right;\">\n",
       "      <th></th>\n",
       "      <th>variable</th>\n",
       "      <th>value</th>\n",
       "      <th>abs</th>\n",
       "    </tr>\n",
       "  </thead>\n",
       "  <tbody>\n",
       "    <tr>\n",
       "      <th>33</th>\n",
       "      <td>2001</td>\n",
       "      <td>1.090207e+13</td>\n",
       "      <td>1.090207e+13</td>\n",
       "    </tr>\n",
       "    <tr>\n",
       "      <th>74</th>\n",
       "      <td>2002,</td>\n",
       "      <td>-1.084084e+13</td>\n",
       "      <td>1.084084e+13</td>\n",
       "    </tr>\n",
       "    <tr>\n",
       "      <th>710</th>\n",
       "      <td>1997</td>\n",
       "      <td>-1.001920e+13</td>\n",
       "      <td>1.001920e+13</td>\n",
       "    </tr>\n",
       "    <tr>\n",
       "      <th>1721</th>\n",
       "      <td>06,</td>\n",
       "      <td>9.410411e+12</td>\n",
       "      <td>9.410411e+12</td>\n",
       "    </tr>\n",
       "    <tr>\n",
       "      <th>1998</th>\n",
       "      <td>7.3</td>\n",
       "      <td>8.951357e+12</td>\n",
       "      <td>8.951357e+12</td>\n",
       "    </tr>\n",
       "    <tr>\n",
       "      <th>...</th>\n",
       "      <td>...</td>\n",
       "      <td>...</td>\n",
       "      <td>...</td>\n",
       "    </tr>\n",
       "    <tr>\n",
       "      <th>844</th>\n",
       "      <td>james</td>\n",
       "      <td>-1.220703e-04</td>\n",
       "      <td>1.220703e-04</td>\n",
       "    </tr>\n",
       "    <tr>\n",
       "      <th>1867</th>\n",
       "      <td>index</td>\n",
       "      <td>-1.187325e-04</td>\n",
       "      <td>1.187325e-04</td>\n",
       "    </tr>\n",
       "    <tr>\n",
       "      <th>1104</th>\n",
       "      <td>preliminary</td>\n",
       "      <td>-1.239777e-05</td>\n",
       "      <td>1.239777e-05</td>\n",
       "    </tr>\n",
       "    <tr>\n",
       "      <th>1618</th>\n",
       "      <td>font</td>\n",
       "      <td>5.722046e-06</td>\n",
       "      <td>5.722046e-06</td>\n",
       "    </tr>\n",
       "    <tr>\n",
       "      <th>2642</th>\n",
       "      <td>301</td>\n",
       "      <td>1.387779e-17</td>\n",
       "      <td>1.387779e-17</td>\n",
       "    </tr>\n",
       "  </tbody>\n",
       "</table>\n",
       "<p>2711 rows × 3 columns</p>\n",
       "</div>"
      ],
      "text/plain": [
       "         variable         value           abs\n",
       "33           2001  1.090207e+13  1.090207e+13\n",
       "74          2002, -1.084084e+13  1.084084e+13\n",
       "710          1997 -1.001920e+13  1.001920e+13\n",
       "1721          06,  9.410411e+12  9.410411e+12\n",
       "1998          7.3  8.951357e+12  8.951357e+12\n",
       "...           ...           ...           ...\n",
       "844         james -1.220703e-04  1.220703e-04\n",
       "1867        index -1.187325e-04  1.187325e-04\n",
       "1104  preliminary -1.239777e-05  1.239777e-05\n",
       "1618         font  5.722046e-06  5.722046e-06\n",
       "2642          301  1.387779e-17  1.387779e-17\n",
       "\n",
       "[2711 rows x 3 columns]"
      ]
     },
     "execution_count": 4,
     "metadata": {},
     "output_type": "execute_result"
    }
   ],
   "source": [
    "cleanfish = pd.read_parquet('./Phishing_clean.parquet')\n",
    "y = cleanfish['Email Type']\n",
    "x = cleanfish.drop('Email Type',axis=1)\n",
    "X_train, X_test, y_train, y_test = train_test_split(x, y, test_size=0.2, random_state=125)\n",
    "\n",
    "\n",
    "regressor = LinearRegression(fit_intercept=False).fit(X_train,y_train)\n",
    "y_hat_test = regressor.predict(X_test)\n",
    "y_hat_train = regressor.predict(X_train)\n",
    "print('train: ', r2_score(y_hat_train,y_train) )\n",
    "print('test: ', r2_score(y_hat_test,y_test) )  \n",
    "\n",
    "\n",
    "words = pd.DataFrame({'variable':regressor.feature_names_in_ , 'value':regressor.coef_})\n",
    "words['abs'] = np.abs(words['value'])\n",
    "words.sort_values('abs',ascending=False)"
   ]
  },
  {
   "cell_type": "markdown",
   "metadata": {},
   "source": [
    "### Q4. \n",
    "\n",
    "Take the matrix of one-hot-encoded tokens (the data, less the outcome variable, `Email Type`) and perform a principal components analysis decomposition with two components. Plot the first two principal components in a scatter plot, and hue the points by whether they are a phishing scam or not. Do you notice any patterns?"
   ]
  },
  {
   "cell_type": "code",
   "execution_count": 5,
   "metadata": {
    "tags": []
   },
   "outputs": [
    {
     "data": {
      "image/png": "[encoded data removed]",
      "text/plain": [
       "<Figure size 640x480 with 1 Axes>"
      ]
     },
     "metadata": {},
     "output_type": "display_data"
    }
   ],
   "source": [
    "decomp = PCA(n_components=2).fit(X_train)\n",
    "test = decomp.transform(X_test)\n",
    "hue = y_test\n",
    "plt.scatter(test[:,0], test[:,1], c=hue)\n",
    "plt.show()"
   ]
  },
  {
   "cell_type": "markdown",
   "metadata": {},
   "source": [
    "> The yellow dots are scam points which makes sense since they are more condensed on the left of the plot. "
   ]
  },
  {
   "cell_type": "markdown",
   "metadata": {},
   "source": [
    "### Q5.\n",
    "\n",
    "Run a linear regression of $y$ on the first 2,610 principal components of $X$. What is the $R^2$ on the training and test sets? (I used cross validation to determine that 2,610 was approximately optimal, but not all 2,711 components.)\n",
    "\n",
    "How does this performance compare to the linear regression?"
   ]
  },
  {
   "cell_type": "code",
   "execution_count": 7,
   "metadata": {
    "tags": []
   },
   "outputs": [
    {
     "name": "stdout",
     "output_type": "stream",
     "text": [
      "train:  -0.14805164032756313\n",
      "test:  -0.1989500815072407\n"
     ]
    }
   ],
   "source": [
    "decomp2 = PCA(n_components=2610).fit(X_train)\n",
    "test2 = decomp2.transform(X_test)\n",
    "train2 = decomp2.transform(X_train)\n",
    "\n",
    "regressor2 = LinearRegression(fit_intercept=False).fit(train2,y_train)\n",
    "y_hat_test2 = regressor2.predict(test2)\n",
    "y_hat_train2 = regressor2.predict(train2)\n",
    "print('train: ', r2_score(y_hat_train2,y_train) )\n",
    "print('test: ', r2_score(y_hat_test2,y_test) )  \n"
   ]
  },
  {
   "cell_type": "markdown",
   "metadata": {},
   "source": [
    "> This performance is much better as the test set is much closer to the train set than in our original regression which saw a much larger difference between the train and test sets."
   ]
  },
  {
   "cell_type": "markdown",
   "metadata": {},
   "source": [
    "### Q6.\n",
    "\n",
    "Explain briefly in your own words what the advantage is in using the principal components to run this high-dimensional regression, rather than the original data."
   ]
  },
  {
   "cell_type": "markdown",
   "metadata": {},
   "source": [
    "> The principal components allow us to have more control in the regression as we can choose how many to use as we decompose the original data set into our components. Using principal components simplifies the original data as it reduces the number of variables and allows the regressor to work more accurately. The drawbacks is that unlike the original data we were looking at, the principal components are harder to analyze as the context given by the variables lost."
   ]
  },
  {
   "cell_type": "code",
   "execution_count": null,
   "metadata": {},
   "outputs": [],
   "source": []
  }
 ],
 "metadata": {
  "kernelspec": {
   "display_name": "Python 3 (ipykernel)",
   "language": "python",
   "name": "python3"
  },
  "language_info": {
   "codemirror_mode": {
    "name": "ipython",
    "version": 3
   },
   "file_extension": ".py",
   "mimetype": "text/x-python",
   "name": "python",
   "nbconvert_exporter": "python",
   "pygments_lexer": "ipython3",
   "version": "3.11.4"
  }
 },
 "nbformat": 4,
 "nbformat_minor": 4
}
